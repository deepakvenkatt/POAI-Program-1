{
  "nbformat": 4,
  "nbformat_minor": 0,
  "metadata": {
    "colab": {
      "provenance": [],
      "authorship_tag": "ABX9TyO65KRwLR9rwTETgQb3o0pn",
      "include_colab_link": true
    },
    "kernelspec": {
      "name": "python3",
      "display_name": "Python 3"
    },
    "language_info": {
      "name": "python"
    }
  },
  "cells": [
    {
      "cell_type": "markdown",
      "metadata": {
        "id": "view-in-github",
        "colab_type": "text"
      },
      "source": [
        "<a href=\"https://colab.research.google.com/github/deepakvenkatt/POAI-program-1/blob/main/Untitled1.ipynb\" target=\"_parent\"><img src=\"https://colab.research.google.com/assets/colab-badge.svg\" alt=\"Open In Colab\"/></a>"
      ]
    },
    {
      "cell_type": "code",
      "execution_count": 2,
      "metadata": {
        "colab": {
          "base_uri": "https://localhost:8080/"
        },
        "id": "MHnnqzVF9jvI",
        "outputId": "828e0a73-8f4b-4419-b4d1-45559f07cf68"
      },
      "outputs": [
        {
          "output_type": "stream",
          "name": "stdout",
          "text": [
            "Q . . . . . . .\n",
            ". . . . Q . . .\n",
            ". . . . . . . Q\n",
            ". . . . . Q . .\n",
            ". . Q . . . . .\n",
            ". . . . . . Q .\n",
            ". Q . . . . . .\n",
            ". . . Q . . . .\n",
            "\n",
            "\n"
          ]
        }
      ],
      "source": [
        "N = 8\n",
        "def print_solution(board):\n",
        "  for row in board:\n",
        "    print(\" \".join(\"Q\" if col else \".\" for col in row))\n",
        "  print(\"\\n\")\n",
        "\n",
        "def is_safe(board, row, col):\n",
        "  for i in range(row):\n",
        "      if board[i][col]:\n",
        "          return False\n",
        "  for i, j in zip(range(row - 1, -1, -1), range(col - 1, -1, -1)):\n",
        "      if board[i][j]:\n",
        "          return False\n",
        "  for i, j in zip(range(row - 1, -1, -1), range(col + 1, N)):\n",
        "      if board[i][j]:\n",
        "          return False\n",
        "  return True\n",
        "def solve_nqueens(board, row):\n",
        "    if row == N:\n",
        "        print_solution(board)\n",
        "        return True  # Stop after finding the first solution\n",
        "\n",
        "    for col in range(N):\n",
        "      if is_safe(board, row, col):\n",
        "              board[row][col] = 1\n",
        "              if solve_nqueens(board, row + 1):\n",
        "                      return True\n",
        "              board[row][col] = 0  # backtrack\n",
        "    return False\n",
        "def solve():\n",
        " board = [[0 for _ in range(N)] for _ in range(N)]\n",
        " if not solve_nqueens(board, 0):\n",
        "    print(\"No solution exists.\")\n",
        "solve()"
      ]
    }
  ]
}